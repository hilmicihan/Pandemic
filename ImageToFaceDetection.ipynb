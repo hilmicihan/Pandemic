{
 "cells": [
  {
   "cell_type": "code",
   "execution_count": 1,
   "metadata": {},
   "outputs": [],
   "source": [
    "from facenet_pytorch import MTCNN\n",
    "import torch\n",
    "import numpy as np\n",
    "import mmcv, cv2\n",
    "from PIL import Image, ImageDraw\n",
    "from IPython import display"
   ]
  },
  {
   "cell_type": "code",
   "execution_count": 2,
   "metadata": {},
   "outputs": [],
   "source": [
    "mtcnn = MTCNN(keep_all=True)"
   ]
  },
  {
   "cell_type": "code",
   "execution_count": 3,
   "metadata": {},
   "outputs": [],
   "source": [
    "path_data = \"data/Desktop/\"\n",
    "image_name1 = \"3.jpeg\"\n",
    "image_name= path_data+image_name1\n",
    "\n",
    "image = mmcv.imread(image_name)\n",
    "frame = Image.fromarray(cv2.cvtColor(image, cv2.COLOR_BGR2RGB))\n"
   ]
  },
  {
   "cell_type": "code",
   "execution_count": 4,
   "metadata": {},
   "outputs": [
    {
     "name": "stdout",
     "output_type": "stream",
     "text": [
      "[0.9895028]\n"
     ]
    }
   ],
   "source": [
    "\n",
    "boxes, probs, points = mtcnn.detect(frame,landmarks=True)\n",
    "print(probs)\n",
    "# Draw faces\n",
    "frame_draw = frame.copy()\n",
    "draw = ImageDraw.Draw(frame_draw)\n",
    "try:\n",
    "    for box in boxes:\n",
    "        draw.rectangle(box.tolist(), outline=(255, 0, 0), width=2)\n",
    "        draw = ImageDraw.Draw(frame_draw)\n",
    "except:\n",
    "    print(\"no face detected\")\n",
    "\n",
    "frame_draw.show()\n",
    "path_result = \"data/image_results/\"+\"result_\"+image_name1\n",
    "frame_draw.save(path_result)"
   ]
  },
  {
   "cell_type": "code",
   "execution_count": null,
   "metadata": {},
   "outputs": [],
   "source": []
  }
 ],
 "metadata": {
  "kernelspec": {
   "display_name": "Python 3",
   "language": "python",
   "name": "python3"
  },
  "language_info": {
   "codemirror_mode": {
    "name": "ipython",
    "version": 3
   },
   "file_extension": ".py",
   "mimetype": "text/x-python",
   "name": "python",
   "nbconvert_exporter": "python",
   "pygments_lexer": "ipython3",
   "version": "3.8.3"
  }
 },
 "nbformat": 4,
 "nbformat_minor": 4
}
