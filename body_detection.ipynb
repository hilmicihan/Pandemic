{
 "cells": [
  {
   "cell_type": "code",
   "execution_count": 8,
   "metadata": {},
   "outputs": [],
   "source": [
    "import cv2\n",
    "import imutils\n",
    "import numpy as np"
   ]
  },
  {
   "cell_type": "code",
   "execution_count": 28,
   "metadata": {},
   "outputs": [],
   "source": [
    "def detect(frame):\n",
    "    box_coor, weights =  HOGCV.detectMultiScale(frame, winStride = (4, 4), padding = (8, 8), scale = 1.03)\n",
    "    body = 1\n",
    "    for i, (x,y,w,h) in enumerate(box_coor):\n",
    "        body += 1\n",
    "        if weights[i] < 0.8:  #threshold,, we can determine something different later\n",
    "            continue\n",
    "        x=x+25\n",
    "        y=y+20\n",
    "        image=cv2.rectangle(frame, (x,y), (x+20,y+20), (255,0,0), 2) #detect heads(drawing rectangle around)\n",
    "        image=cv2.rectangle(frame, (x,y), (x+w,y+h), (255,0,0), 2) #detect bodies (drawing rectangle around)\n",
    "        crop_img = image[y:y+30, x:x+30] #cropping heads ( but not working properly we can change)\n",
    "        cv2.imshow(\"cropped\", crop_img)\n",
    "        cv2.waitKey(0)\n",
    "        cv2.putText(frame, f'body {body}', (x,y), cv2.FONT_HERSHEY_SIMPLEX, 0.5, (0,0,255), 1)\n",
    "        \n",
    "    cv2.putText(frame, f'Total body : {body-1}', (40,70), cv2.FONT_HERSHEY_DUPLEX, 0.8, (255,0,0), 2)\n",
    "    return frame"
   ]
  },
  {
   "cell_type": "code",
   "execution_count": 30,
   "metadata": {},
   "outputs": [],
   "source": [
    "def Detector(camera,image, video):\n",
    "    image_path = \"./face_detect\"\n",
    "    writer = None\n",
    "    if image:\n",
    "        print('opening the image')\n",
    "        detectImage(\"./face_detect/yeni.jpg\", \"./face_detect\")\n",
    "''' elif camera:\n",
    "        #writer eklenecek\n",
    "        detectByCam(path,writer)\n",
    "    \n",
    "    elif video:\n",
    "        #writer eklenecek\n",
    "        #func eklenecek\n",
    "        detectByVideo(path, writer) '''"
   ]
  },
  {
   "cell_type": "code",
   "execution_count": 13,
   "metadata": {},
   "outputs": [],
   "source": [
    "def detectImage(path, output_path):\n",
    "    image = cv2.imread(path)\n",
    "    image = imutils.resize(image, width = min(800, image.shape[1])) \n",
    "    result_image = detect(image)\n",
    "    if output_path is not None:\n",
    "        cv2.imshow(output_path, result_image)\n",
    "    cv2.waitKey(0)\n",
    "    cv2.destroyAllWindows()\n",
    "    \n",
    "def detectByCam(writer):\n",
    "    \n",
    "    video = cv2.VideoCapture(0)\n",
    "    while True:\n",
    "        check, frame = video.read()\n",
    "        frame = detect(frame)\n",
    "        if writer is not None:\n",
    "            writer.write(frame)\n",
    "        key = cv2.waitKey(1)\n",
    "        if key == ord('q'):\n",
    "                break\n",
    "    video.release()\n",
    "    cv2.destroyAllWindows()"
   ]
  },
  {
   "cell_type": "code",
   "execution_count": 29,
   "metadata": {},
   "outputs": [
    {
     "name": "stdout",
     "output_type": "stream",
     "text": [
      "opening the image\n"
     ]
    }
   ],
   "source": [
    "HOGCV = cv2.HOGDescriptor()\n",
    "HOGCV.setSVMDetector(cv2.HOGDescriptor_getDefaultPeopleDetector())\n",
    "bodyDetector(False,True,False)"
   ]
  }
 ],
 "metadata": {
  "kernelspec": {
   "display_name": "Python 3",
   "language": "python",
   "name": "python3"
  },
  "language_info": {
   "codemirror_mode": {
    "name": "ipython",
    "version": 3
   },
   "file_extension": ".py",
   "mimetype": "text/x-python",
   "name": "python",
   "nbconvert_exporter": "python",
   "pygments_lexer": "ipython3",
   "version": "3.8.3"
  }
 },
 "nbformat": 4,
 "nbformat_minor": 4
}
